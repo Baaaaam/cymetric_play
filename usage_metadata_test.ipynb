{
 "cells": [
  {
   "cell_type": "code",
   "execution_count": 1,
   "metadata": {},
   "outputs": [
    {
     "name": "stderr",
     "output_type": "stream",
     "text": [
      "/opt/local/Library/Frameworks/Python.framework/Versions/3.6/lib/python3.6/importlib/_bootstrap.py:219: QAWarning: pyne.data is not yet QA compliant.\n",
      "  return f(*args, **kwds)\n",
      "/opt/local/Library/Frameworks/Python.framework/Versions/3.6/lib/python3.6/importlib/_bootstrap.py:219: QAWarning: pyne.material is not yet QA compliant.\n",
      "  return f(*args, **kwds)\n",
      "/opt/local/Library/Frameworks/Python.framework/Versions/3.6/lib/python3.6/importlib/_bootstrap.py:219: QAWarning: pyne.enrichment is not yet QA compliant.\n",
      "  return f(*args, **kwds)\n"
     ]
    }
   ],
   "source": [
    "import cymetric as cym\n",
    "import os\n",
    "import pandas as pd\n",
    "from pandas.util.testing import assert_frame_equal\n",
    "import numpy as np\n",
    "from uuid import UUID\n",
    "from cymetric.tools import raw_to_series, ensure_dt_bytes\n",
    "\n",
    "\n"
   ]
  },
  {
   "cell_type": "code",
   "execution_count": 2,
   "metadata": {
    "collapsed": true
   },
   "outputs": [],
   "source": [
    "# Open the database\n",
    "db = cym.dbopen(\"test-input.h5\")\n",
    "metadata = cym.root_metric(name='Metadata')"
   ]
  },
  {
   "cell_type": "code",
   "execution_count": 3,
   "metadata": {
    "collapsed": true
   },
   "outputs": [],
   "source": [
    "# Define an Evaluator, allows to acces the different data tables in the database\n",
    "myEval = cym.Evaluator(db)"
   ]
  },
  {
   "cell_type": "code",
   "execution_count": 4,
   "metadata": {
    "scrolled": true
   },
   "outputs": [],
   "source": [
    "# Acces on specific table (here Materials)\n",
    "metadata = myEval.eval('Metadata')\n",
    "time = myEval.eval('TimeList')\n",
    "agent = myEval.eval('AgentEntry')"
   ]
  },
  {
   "cell_type": "code",
   "execution_count": 5,
   "metadata": {},
   "outputs": [],
   "source": [
    "deployment = metadata[ metadata['Type'] == \"deployment\" ]\n",
    "dep_agent = agent[agent['AgentId'].isin(deployment['AgentId'])]"
   ]
  },
  {
   "cell_type": "code",
   "execution_count": 6,
   "metadata": {},
   "outputs": [
    {
     "data": {
      "text/html": [
       "<div>\n",
       "<style scoped>\n",
       "    .dataframe tbody tr th:only-of-type {\n",
       "        vertical-align: middle;\n",
       "    }\n",
       "\n",
       "    .dataframe tbody tr th {\n",
       "        vertical-align: top;\n",
       "    }\n",
       "\n",
       "    .dataframe thead th {\n",
       "        text-align: right;\n",
       "    }\n",
       "</style>\n",
       "<table border=\"1\" class=\"dataframe\">\n",
       "  <thead>\n",
       "    <tr style=\"text-align: right;\">\n",
       "      <th></th>\n",
       "      <th>SimId</th>\n",
       "      <th>AgentId</th>\n",
       "      <th>Kind</th>\n",
       "      <th>Spec</th>\n",
       "      <th>Prototype</th>\n",
       "      <th>ParentId</th>\n",
       "      <th>Lifetime</th>\n",
       "      <th>EnterTime</th>\n",
       "    </tr>\n",
       "  </thead>\n",
       "  <tbody>\n",
       "    <tr>\n",
       "      <th>5</th>\n",
       "      <td>97a733da-77ae-4dbe-b978-3226880f4ca3</td>\n",
       "      <td>16</td>\n",
       "      <td>Facility</td>\n",
       "      <td>:cycamore:Reactor</td>\n",
       "      <td>Reactor2</td>\n",
       "      <td>12</td>\n",
       "      <td>12</td>\n",
       "      <td>2</td>\n",
       "    </tr>\n",
       "    <tr>\n",
       "      <th>6</th>\n",
       "      <td>97a733da-77ae-4dbe-b978-3226880f4ca3</td>\n",
       "      <td>17</td>\n",
       "      <td>Facility</td>\n",
       "      <td>:cycamore:Reactor</td>\n",
       "      <td>Reactor3</td>\n",
       "      <td>12</td>\n",
       "      <td>15</td>\n",
       "      <td>3</td>\n",
       "    </tr>\n",
       "  </tbody>\n",
       "</table>\n",
       "</div>"
      ],
      "text/plain": [
       "                                  SimId  AgentId      Kind               Spec  \\\n",
       "5  97a733da-77ae-4dbe-b978-3226880f4ca3       16  Facility  :cycamore:Reactor   \n",
       "6  97a733da-77ae-4dbe-b978-3226880f4ca3       17  Facility  :cycamore:Reactor   \n",
       "\n",
       "  Prototype  ParentId  Lifetime  EnterTime  \n",
       "5  Reactor2        12        12          2  \n",
       "6  Reactor3        12        15          3  "
      ]
     },
     "execution_count": 6,
     "metadata": {},
     "output_type": "execute_result"
    }
   ],
   "source": [
    "dep_agent"
   ]
  },
  {
   "cell_type": "code",
   "execution_count": 7,
   "metadata": {},
   "outputs": [
    {
     "data": {
      "text/html": [
       "<div>\n",
       "<style scoped>\n",
       "    .dataframe tbody tr th:only-of-type {\n",
       "        vertical-align: middle;\n",
       "    }\n",
       "\n",
       "    .dataframe tbody tr th {\n",
       "        vertical-align: top;\n",
       "    }\n",
       "\n",
       "    .dataframe thead th {\n",
       "        text-align: right;\n",
       "    }\n",
       "</style>\n",
       "<table border=\"1\" class=\"dataframe\">\n",
       "  <thead>\n",
       "    <tr style=\"text-align: right;\">\n",
       "      <th></th>\n",
       "      <th>SimId</th>\n",
       "      <th>AgentId</th>\n",
       "      <th>keyword</th>\n",
       "      <th>Type</th>\n",
       "      <th>Value</th>\n",
       "    </tr>\n",
       "  </thead>\n",
       "  <tbody>\n",
       "    <tr>\n",
       "      <th>0</th>\n",
       "      <td>97a733da-77ae-4dbe-b978-3226880f4ca3</td>\n",
       "      <td>16</td>\n",
       "      <td>co2</td>\n",
       "      <td>decommission</td>\n",
       "      <td>25.000000</td>\n",
       "    </tr>\n",
       "    <tr>\n",
       "      <th>1</th>\n",
       "      <td>97a733da-77ae-4dbe-b978-3226880f4ca3</td>\n",
       "      <td>16</td>\n",
       "      <td>co2</td>\n",
       "      <td>deployment</td>\n",
       "      <td>45.000000</td>\n",
       "    </tr>\n",
       "    <tr>\n",
       "      <th>2</th>\n",
       "      <td>97a733da-77ae-4dbe-b978-3226880f4ca3</td>\n",
       "      <td>16</td>\n",
       "      <td>co2</td>\n",
       "      <td>timestep</td>\n",
       "      <td>35.000000</td>\n",
       "    </tr>\n",
       "    <tr>\n",
       "      <th>3</th>\n",
       "      <td>97a733da-77ae-4dbe-b978-3226880f4ca3</td>\n",
       "      <td>16</td>\n",
       "      <td>co2</td>\n",
       "      <td>throughput</td>\n",
       "      <td>15.000000</td>\n",
       "    </tr>\n",
       "    <tr>\n",
       "      <th>4</th>\n",
       "      <td>97a733da-77ae-4dbe-b978-3226880f4ca3</td>\n",
       "      <td>16</td>\n",
       "      <td>land</td>\n",
       "      <td>decommission</td>\n",
       "      <td>24.000000</td>\n",
       "    </tr>\n",
       "    <tr>\n",
       "      <th>5</th>\n",
       "      <td>97a733da-77ae-4dbe-b978-3226880f4ca3</td>\n",
       "      <td>16</td>\n",
       "      <td>lolipop</td>\n",
       "      <td>throughput</td>\n",
       "      <td>11.000000</td>\n",
       "    </tr>\n",
       "    <tr>\n",
       "      <th>6</th>\n",
       "      <td>97a733da-77ae-4dbe-b978-3226880f4ca3</td>\n",
       "      <td>16</td>\n",
       "      <td>manpower</td>\n",
       "      <td>timestep</td>\n",
       "      <td>32.000000</td>\n",
       "    </tr>\n",
       "    <tr>\n",
       "      <th>7</th>\n",
       "      <td>97a733da-77ae-4dbe-b978-3226880f4ca3</td>\n",
       "      <td>16</td>\n",
       "      <td>water</td>\n",
       "      <td>deployment</td>\n",
       "      <td>43.000000</td>\n",
       "    </tr>\n",
       "    <tr>\n",
       "      <th>8</th>\n",
       "      <td>97a733da-77ae-4dbe-b978-3226880f4ca3</td>\n",
       "      <td>17</td>\n",
       "      <td>co2</td>\n",
       "      <td>decommission</td>\n",
       "      <td>25.000000</td>\n",
       "    </tr>\n",
       "    <tr>\n",
       "      <th>9</th>\n",
       "      <td>97a733da-77ae-4dbe-b978-3226880f4ca3</td>\n",
       "      <td>17</td>\n",
       "      <td>co2</td>\n",
       "      <td>deployment</td>\n",
       "      <td>45.000000</td>\n",
       "    </tr>\n",
       "    <tr>\n",
       "      <th>10</th>\n",
       "      <td>97a733da-77ae-4dbe-b978-3226880f4ca3</td>\n",
       "      <td>17</td>\n",
       "      <td>co2</td>\n",
       "      <td>timestep</td>\n",
       "      <td>35.000000</td>\n",
       "    </tr>\n",
       "    <tr>\n",
       "      <th>11</th>\n",
       "      <td>97a733da-77ae-4dbe-b978-3226880f4ca3</td>\n",
       "      <td>17</td>\n",
       "      <td>co2</td>\n",
       "      <td>throughput</td>\n",
       "      <td>15.000000</td>\n",
       "    </tr>\n",
       "    <tr>\n",
       "      <th>12</th>\n",
       "      <td>97a733da-77ae-4dbe-b978-3226880f4ca3</td>\n",
       "      <td>17</td>\n",
       "      <td>land</td>\n",
       "      <td>decommission</td>\n",
       "      <td>24.000000</td>\n",
       "    </tr>\n",
       "    <tr>\n",
       "      <th>13</th>\n",
       "      <td>97a733da-77ae-4dbe-b978-3226880f4ca3</td>\n",
       "      <td>17</td>\n",
       "      <td>lolipop</td>\n",
       "      <td>throughput</td>\n",
       "      <td>11.000000</td>\n",
       "    </tr>\n",
       "    <tr>\n",
       "      <th>14</th>\n",
       "      <td>97a733da-77ae-4dbe-b978-3226880f4ca3</td>\n",
       "      <td>17</td>\n",
       "      <td>manpower</td>\n",
       "      <td>timestep</td>\n",
       "      <td>32.000000</td>\n",
       "    </tr>\n",
       "    <tr>\n",
       "      <th>15</th>\n",
       "      <td>97a733da-77ae-4dbe-b978-3226880f4ca3</td>\n",
       "      <td>17</td>\n",
       "      <td>water</td>\n",
       "      <td>deployment</td>\n",
       "      <td>43.000000</td>\n",
       "    </tr>\n",
       "  </tbody>\n",
       "</table>\n",
       "</div>"
      ],
      "text/plain": [
       "                                   SimId  AgentId   keyword          Type  \\\n",
       "0   97a733da-77ae-4dbe-b978-3226880f4ca3       16       co2  decommission   \n",
       "1   97a733da-77ae-4dbe-b978-3226880f4ca3       16       co2    deployment   \n",
       "2   97a733da-77ae-4dbe-b978-3226880f4ca3       16       co2      timestep   \n",
       "3   97a733da-77ae-4dbe-b978-3226880f4ca3       16       co2    throughput   \n",
       "4   97a733da-77ae-4dbe-b978-3226880f4ca3       16      land  decommission   \n",
       "5   97a733da-77ae-4dbe-b978-3226880f4ca3       16   lolipop    throughput   \n",
       "6   97a733da-77ae-4dbe-b978-3226880f4ca3       16  manpower      timestep   \n",
       "7   97a733da-77ae-4dbe-b978-3226880f4ca3       16     water    deployment   \n",
       "8   97a733da-77ae-4dbe-b978-3226880f4ca3       17       co2  decommission   \n",
       "9   97a733da-77ae-4dbe-b978-3226880f4ca3       17       co2    deployment   \n",
       "10  97a733da-77ae-4dbe-b978-3226880f4ca3       17       co2      timestep   \n",
       "11  97a733da-77ae-4dbe-b978-3226880f4ca3       17       co2    throughput   \n",
       "12  97a733da-77ae-4dbe-b978-3226880f4ca3       17      land  decommission   \n",
       "13  97a733da-77ae-4dbe-b978-3226880f4ca3       17   lolipop    throughput   \n",
       "14  97a733da-77ae-4dbe-b978-3226880f4ca3       17  manpower      timestep   \n",
       "15  97a733da-77ae-4dbe-b978-3226880f4ca3       17     water    deployment   \n",
       "\n",
       "        Value  \n",
       "0   25.000000  \n",
       "1   45.000000  \n",
       "2   35.000000  \n",
       "3   15.000000  \n",
       "4   24.000000  \n",
       "5   11.000000  \n",
       "6   32.000000  \n",
       "7   43.000000  \n",
       "8   25.000000  \n",
       "9   45.000000  \n",
       "10  35.000000  \n",
       "11  15.000000  \n",
       "12  24.000000  \n",
       "13  11.000000  \n",
       "14  32.000000  \n",
       "15  43.000000  "
      ]
     },
     "execution_count": 7,
     "metadata": {},
     "output_type": "execute_result"
    }
   ],
   "source": [
    "metadata"
   ]
  },
  {
   "cell_type": "code",
   "execution_count": null,
   "metadata": {},
   "outputs": [],
   "source": []
  },
  {
   "cell_type": "code",
   "execution_count": null,
   "metadata": {},
   "outputs": [],
   "source": []
  },
  {
   "cell_type": "code",
   "execution_count": null,
   "metadata": {},
   "outputs": [],
   "source": []
  },
  {
   "cell_type": "code",
   "execution_count": null,
   "metadata": {},
   "outputs": [],
   "source": []
  },
  {
   "cell_type": "code",
   "execution_count": null,
   "metadata": {},
   "outputs": [],
   "source": []
  },
  {
   "cell_type": "code",
   "execution_count": 29,
   "metadata": {},
   "outputs": [],
   "source": [
    "_tmp = pd.merge(deployment[['SimId', 'AgentId','keyword', 'Value']], dep_agent, on=['SimId', 'AgentId'])"
   ]
  },
  {
   "cell_type": "code",
   "execution_count": 30,
   "metadata": {},
   "outputs": [],
   "source": [
    "deployment_use = pd.DataFrame(data={'SimId': _tmp.SimId, 'AgentId': _tmp.AgentId, 'Time': _tmp.EnterTime, 'keyword': _tmp.keyword, 'Value':_tmp.Value}, \n",
    "                              columns=['SimId', 'AgentId', 'Time', 'keyword', 'Value'])"
   ]
  },
  {
   "cell_type": "code",
   "execution_count": 31,
   "metadata": {
    "collapsed": true
   },
   "outputs": [
    {
     "data": {
      "text/html": [
       "<div>\n",
       "<style scoped>\n",
       "    .dataframe tbody tr th:only-of-type {\n",
       "        vertical-align: middle;\n",
       "    }\n",
       "\n",
       "    .dataframe tbody tr th {\n",
       "        vertical-align: top;\n",
       "    }\n",
       "\n",
       "    .dataframe thead th {\n",
       "        text-align: right;\n",
       "    }\n",
       "</style>\n",
       "<table border=\"1\" class=\"dataframe\">\n",
       "  <thead>\n",
       "    <tr style=\"text-align: right;\">\n",
       "      <th></th>\n",
       "      <th>SimId</th>\n",
       "      <th>AgentId</th>\n",
       "      <th>Time</th>\n",
       "      <th>keyword</th>\n",
       "      <th>Value</th>\n",
       "    </tr>\n",
       "  </thead>\n",
       "  <tbody>\n",
       "    <tr>\n",
       "      <th>0</th>\n",
       "      <td>97a733da-77ae-4dbe-b978-3226880f4ca3</td>\n",
       "      <td>16</td>\n",
       "      <td>2</td>\n",
       "      <td>co2</td>\n",
       "      <td>45.000000</td>\n",
       "    </tr>\n",
       "    <tr>\n",
       "      <th>1</th>\n",
       "      <td>97a733da-77ae-4dbe-b978-3226880f4ca3</td>\n",
       "      <td>16</td>\n",
       "      <td>2</td>\n",
       "      <td>water</td>\n",
       "      <td>43.000000</td>\n",
       "    </tr>\n",
       "    <tr>\n",
       "      <th>2</th>\n",
       "      <td>97a733da-77ae-4dbe-b978-3226880f4ca3</td>\n",
       "      <td>17</td>\n",
       "      <td>3</td>\n",
       "      <td>co2</td>\n",
       "      <td>45.000000</td>\n",
       "    </tr>\n",
       "    <tr>\n",
       "      <th>3</th>\n",
       "      <td>97a733da-77ae-4dbe-b978-3226880f4ca3</td>\n",
       "      <td>17</td>\n",
       "      <td>3</td>\n",
       "      <td>water</td>\n",
       "      <td>43.000000</td>\n",
       "    </tr>\n",
       "  </tbody>\n",
       "</table>\n",
       "</div>"
      ],
      "text/plain": [
       "                                  SimId  AgentId  Time keyword      Value\n",
       "0  97a733da-77ae-4dbe-b978-3226880f4ca3       16     2     co2  45.000000\n",
       "1  97a733da-77ae-4dbe-b978-3226880f4ca3       16     2   water  43.000000\n",
       "2  97a733da-77ae-4dbe-b978-3226880f4ca3       17     3     co2  45.000000\n",
       "3  97a733da-77ae-4dbe-b978-3226880f4ca3       17     3   water  43.000000"
      ]
     },
     "execution_count": 31,
     "metadata": {},
     "output_type": "execute_result"
    }
   ],
   "source": [
    "deployment_use"
   ]
  },
  {
   "cell_type": "code",
   "execution_count": 16,
   "metadata": {
    "collapsed": true
   },
   "outputs": [
    {
     "name": "stderr",
     "output_type": "stream",
     "text": [
      "/opt/local/Library/Frameworks/Python.framework/Versions/3.6/lib/python3.6/site-packages/ipykernel_launcher.py:3: SettingWithCopyWarning: \n",
      "A value is trying to be set on a copy of a slice from a DataFrame.\n",
      "Try using .loc[row_indexer,col_indexer] = value instead\n",
      "\n",
      "See the caveats in the documentation: http://pandas.pydata.org/pandas-docs/stable/indexing.html#indexing-view-versus-copy\n",
      "  This is separate from the ipykernel package so we can avoid doing imports until\n"
     ]
    }
   ],
   "source": [
    "decom = metadata[ metadata['Type'] == \"decommission\" ]\n",
    "decom_agent = agent[agent['AgentId'].isin(decom['AgentId'])]\n",
    "decom_agent['ExitTime'] = decom_agent['EnterTime'] + decom_agent['Lifetime']"
   ]
  },
  {
   "cell_type": "code",
   "execution_count": 17,
   "metadata": {},
   "outputs": [
    {
     "data": {
      "text/html": [
       "<div>\n",
       "<style scoped>\n",
       "    .dataframe tbody tr th:only-of-type {\n",
       "        vertical-align: middle;\n",
       "    }\n",
       "\n",
       "    .dataframe tbody tr th {\n",
       "        vertical-align: top;\n",
       "    }\n",
       "\n",
       "    .dataframe thead th {\n",
       "        text-align: right;\n",
       "    }\n",
       "</style>\n",
       "<table border=\"1\" class=\"dataframe\">\n",
       "  <thead>\n",
       "    <tr style=\"text-align: right;\">\n",
       "      <th></th>\n",
       "      <th>SimId</th>\n",
       "      <th>AgentId</th>\n",
       "      <th>Kind</th>\n",
       "      <th>Spec</th>\n",
       "      <th>Prototype</th>\n",
       "      <th>ParentId</th>\n",
       "      <th>Lifetime</th>\n",
       "      <th>EnterTime</th>\n",
       "      <th>ExitTime</th>\n",
       "    </tr>\n",
       "  </thead>\n",
       "  <tbody>\n",
       "    <tr>\n",
       "      <th>5</th>\n",
       "      <td>97a733da-77ae-4dbe-b978-3226880f4ca3</td>\n",
       "      <td>16</td>\n",
       "      <td>Facility</td>\n",
       "      <td>:cycamore:Reactor</td>\n",
       "      <td>Reactor2</td>\n",
       "      <td>12</td>\n",
       "      <td>12</td>\n",
       "      <td>2</td>\n",
       "      <td>14</td>\n",
       "    </tr>\n",
       "    <tr>\n",
       "      <th>6</th>\n",
       "      <td>97a733da-77ae-4dbe-b978-3226880f4ca3</td>\n",
       "      <td>17</td>\n",
       "      <td>Facility</td>\n",
       "      <td>:cycamore:Reactor</td>\n",
       "      <td>Reactor3</td>\n",
       "      <td>12</td>\n",
       "      <td>15</td>\n",
       "      <td>3</td>\n",
       "      <td>18</td>\n",
       "    </tr>\n",
       "  </tbody>\n",
       "</table>\n",
       "</div>"
      ],
      "text/plain": [
       "                                  SimId  AgentId      Kind               Spec  \\\n",
       "5  97a733da-77ae-4dbe-b978-3226880f4ca3       16  Facility  :cycamore:Reactor   \n",
       "6  97a733da-77ae-4dbe-b978-3226880f4ca3       17  Facility  :cycamore:Reactor   \n",
       "\n",
       "  Prototype  ParentId  Lifetime  EnterTime  ExitTime  \n",
       "5  Reactor2        12        12          2        14  \n",
       "6  Reactor3        12        15          3        18  "
      ]
     },
     "execution_count": 17,
     "metadata": {},
     "output_type": "execute_result"
    }
   ],
   "source": [
    "decom_agent"
   ]
  },
  {
   "cell_type": "code",
   "execution_count": 26,
   "metadata": {},
   "outputs": [],
   "source": [
    "_tmp = pd.merge(decom[['SimId', 'AgentId','keyword', 'Value']], decom_agent, on=['SimId', 'AgentId'])"
   ]
  },
  {
   "cell_type": "code",
   "execution_count": 27,
   "metadata": {},
   "outputs": [],
   "source": [
    "decom_use = pd.DataFrame(data={'SimId': _tmp.SimId, 'AgentId': _tmp.AgentId, 'Time': _tmp.ExitTime, 'keyword': _tmp.keyword, 'Value':_tmp.Value}, \n",
    "                              columns=['SimId', 'AgentId', 'Time', 'keyword', 'Value'])"
   ]
  },
  {
   "cell_type": "code",
   "execution_count": 28,
   "metadata": {},
   "outputs": [
    {
     "data": {
      "text/html": [
       "<div>\n",
       "<style scoped>\n",
       "    .dataframe tbody tr th:only-of-type {\n",
       "        vertical-align: middle;\n",
       "    }\n",
       "\n",
       "    .dataframe tbody tr th {\n",
       "        vertical-align: top;\n",
       "    }\n",
       "\n",
       "    .dataframe thead th {\n",
       "        text-align: right;\n",
       "    }\n",
       "</style>\n",
       "<table border=\"1\" class=\"dataframe\">\n",
       "  <thead>\n",
       "    <tr style=\"text-align: right;\">\n",
       "      <th></th>\n",
       "      <th>SimId</th>\n",
       "      <th>AgentId</th>\n",
       "      <th>Time</th>\n",
       "      <th>keyword</th>\n",
       "      <th>Value</th>\n",
       "    </tr>\n",
       "  </thead>\n",
       "  <tbody>\n",
       "    <tr>\n",
       "      <th>0</th>\n",
       "      <td>97a733da-77ae-4dbe-b978-3226880f4ca3</td>\n",
       "      <td>16</td>\n",
       "      <td>14</td>\n",
       "      <td>co2</td>\n",
       "      <td>25.000000</td>\n",
       "    </tr>\n",
       "    <tr>\n",
       "      <th>1</th>\n",
       "      <td>97a733da-77ae-4dbe-b978-3226880f4ca3</td>\n",
       "      <td>16</td>\n",
       "      <td>14</td>\n",
       "      <td>land</td>\n",
       "      <td>24.000000</td>\n",
       "    </tr>\n",
       "    <tr>\n",
       "      <th>2</th>\n",
       "      <td>97a733da-77ae-4dbe-b978-3226880f4ca3</td>\n",
       "      <td>17</td>\n",
       "      <td>18</td>\n",
       "      <td>co2</td>\n",
       "      <td>25.000000</td>\n",
       "    </tr>\n",
       "    <tr>\n",
       "      <th>3</th>\n",
       "      <td>97a733da-77ae-4dbe-b978-3226880f4ca3</td>\n",
       "      <td>17</td>\n",
       "      <td>18</td>\n",
       "      <td>land</td>\n",
       "      <td>24.000000</td>\n",
       "    </tr>\n",
       "  </tbody>\n",
       "</table>\n",
       "</div>"
      ],
      "text/plain": [
       "                                  SimId  AgentId  Time keyword      Value\n",
       "0  97a733da-77ae-4dbe-b978-3226880f4ca3       16    14     co2  25.000000\n",
       "1  97a733da-77ae-4dbe-b978-3226880f4ca3       16    14    land  24.000000\n",
       "2  97a733da-77ae-4dbe-b978-3226880f4ca3       17    18     co2  25.000000\n",
       "3  97a733da-77ae-4dbe-b978-3226880f4ca3       17    18    land  24.000000"
      ]
     },
     "execution_count": 28,
     "metadata": {},
     "output_type": "execute_result"
    }
   ],
   "source": [
    "decom_use"
   ]
  },
  {
   "cell_type": "code",
   "execution_count": null,
   "metadata": {},
   "outputs": [],
   "source": []
  },
  {
   "cell_type": "code",
   "execution_count": null,
   "metadata": {},
   "outputs": [],
   "source": []
  },
  {
   "cell_type": "code",
   "execution_count": null,
   "metadata": {},
   "outputs": [],
   "source": []
  },
  {
   "cell_type": "code",
   "execution_count": null,
   "metadata": {},
   "outputs": [],
   "source": []
  },
  {
   "cell_type": "code",
   "execution_count": 37,
   "metadata": {},
   "outputs": [
    {
     "name": "stderr",
     "output_type": "stream",
     "text": [
      "/opt/local/Library/Frameworks/Python.framework/Versions/3.6/lib/python3.6/site-packages/ipykernel_launcher.py:3: SettingWithCopyWarning: \n",
      "A value is trying to be set on a copy of a slice from a DataFrame.\n",
      "Try using .loc[row_indexer,col_indexer] = value instead\n",
      "\n",
      "See the caveats in the documentation: http://pandas.pydata.org/pandas-docs/stable/indexing.html#indexing-view-versus-copy\n",
      "  This is separate from the ipykernel package so we can avoid doing imports until\n"
     ]
    }
   ],
   "source": [
    "timestep = metadata[ metadata['Type'] == \"timestep\" ]\n",
    "timestep_agent = agent[agent['AgentId'].isin(timestep['AgentId'])]\n",
    "timestep_agent['ExitTime'] = timestep_agent['EnterTime'] + timestep_agent['Lifetime']"
   ]
  },
  {
   "cell_type": "code",
   "execution_count": 38,
   "metadata": {},
   "outputs": [
    {
     "data": {
      "text/html": [
       "<div>\n",
       "<style scoped>\n",
       "    .dataframe tbody tr th:only-of-type {\n",
       "        vertical-align: middle;\n",
       "    }\n",
       "\n",
       "    .dataframe tbody tr th {\n",
       "        vertical-align: top;\n",
       "    }\n",
       "\n",
       "    .dataframe thead th {\n",
       "        text-align: right;\n",
       "    }\n",
       "</style>\n",
       "<table border=\"1\" class=\"dataframe\">\n",
       "  <thead>\n",
       "    <tr style=\"text-align: right;\">\n",
       "      <th></th>\n",
       "      <th>SimId</th>\n",
       "      <th>AgentId</th>\n",
       "      <th>Kind</th>\n",
       "      <th>Spec</th>\n",
       "      <th>Prototype</th>\n",
       "      <th>ParentId</th>\n",
       "      <th>Lifetime</th>\n",
       "      <th>EnterTime</th>\n",
       "      <th>ExitTime</th>\n",
       "    </tr>\n",
       "  </thead>\n",
       "  <tbody>\n",
       "    <tr>\n",
       "      <th>5</th>\n",
       "      <td>97a733da-77ae-4dbe-b978-3226880f4ca3</td>\n",
       "      <td>16</td>\n",
       "      <td>Facility</td>\n",
       "      <td>:cycamore:Reactor</td>\n",
       "      <td>Reactor2</td>\n",
       "      <td>12</td>\n",
       "      <td>12</td>\n",
       "      <td>2</td>\n",
       "      <td>14</td>\n",
       "    </tr>\n",
       "    <tr>\n",
       "      <th>6</th>\n",
       "      <td>97a733da-77ae-4dbe-b978-3226880f4ca3</td>\n",
       "      <td>17</td>\n",
       "      <td>Facility</td>\n",
       "      <td>:cycamore:Reactor</td>\n",
       "      <td>Reactor3</td>\n",
       "      <td>12</td>\n",
       "      <td>15</td>\n",
       "      <td>3</td>\n",
       "      <td>18</td>\n",
       "    </tr>\n",
       "  </tbody>\n",
       "</table>\n",
       "</div>"
      ],
      "text/plain": [
       "                                  SimId  AgentId      Kind               Spec  \\\n",
       "5  97a733da-77ae-4dbe-b978-3226880f4ca3       16  Facility  :cycamore:Reactor   \n",
       "6  97a733da-77ae-4dbe-b978-3226880f4ca3       17  Facility  :cycamore:Reactor   \n",
       "\n",
       "  Prototype  ParentId  Lifetime  EnterTime  ExitTime  \n",
       "5  Reactor2        12        12          2        14  \n",
       "6  Reactor3        12        15          3        18  "
      ]
     },
     "execution_count": 38,
     "metadata": {},
     "output_type": "execute_result"
    }
   ],
   "source": [
    "timestep_agent"
   ]
  },
  {
   "cell_type": "code",
   "execution_count": 39,
   "metadata": {},
   "outputs": [],
   "source": [
    "_tmp = pd.merge(timestep[['SimId', 'AgentId','keyword', 'Value']], timestep_agent, on=['SimId', 'AgentId'])"
   ]
  },
  {
   "cell_type": "code",
   "execution_count": 43,
   "metadata": {},
   "outputs": [],
   "source": [
    "timestep_use = pd.DataFrame(data={'SimId': _tmp.SimId, 'AgentId': _tmp.AgentId, 'EnterTime': _tmp.EnterTime, 'ExitTime': _tmp.ExitTime , 'keyword': _tmp.keyword, 'Value':_tmp.Value}, \n",
    "                              columns=['SimId', 'AgentId', 'EnterTime', 'ExitTime', 'keyword', 'Value'])"
   ]
  },
  {
   "cell_type": "code",
   "execution_count": 61,
   "metadata": {},
   "outputs": [
    {
     "name": "stdout",
     "output_type": "stream",
     "text": [
      "                                   SimId  AgentId  Time   keyword      Value\n",
      "0   97a733da-77ae-4dbe-b978-3226880f4ca3       16     2       co2  35.000000\n",
      "1   97a733da-77ae-4dbe-b978-3226880f4ca3       16     3       co2  35.000000\n",
      "2   97a733da-77ae-4dbe-b978-3226880f4ca3       16     4       co2  35.000000\n",
      "3   97a733da-77ae-4dbe-b978-3226880f4ca3       16     5       co2  35.000000\n",
      "4   97a733da-77ae-4dbe-b978-3226880f4ca3       16     6       co2  35.000000\n",
      "5   97a733da-77ae-4dbe-b978-3226880f4ca3       16     7       co2  35.000000\n",
      "6   97a733da-77ae-4dbe-b978-3226880f4ca3       16     8       co2  35.000000\n",
      "7   97a733da-77ae-4dbe-b978-3226880f4ca3       16     9       co2  35.000000\n",
      "8   97a733da-77ae-4dbe-b978-3226880f4ca3       16    10       co2  35.000000\n",
      "9   97a733da-77ae-4dbe-b978-3226880f4ca3       16    11       co2  35.000000\n",
      "10  97a733da-77ae-4dbe-b978-3226880f4ca3       16    12       co2  35.000000\n",
      "11  97a733da-77ae-4dbe-b978-3226880f4ca3       16    13       co2  35.000000\n",
      "12  97a733da-77ae-4dbe-b978-3226880f4ca3       16     2  manpower  32.000000\n",
      "13  97a733da-77ae-4dbe-b978-3226880f4ca3       16     3  manpower  32.000000\n",
      "14  97a733da-77ae-4dbe-b978-3226880f4ca3       16     4  manpower  32.000000\n",
      "15  97a733da-77ae-4dbe-b978-3226880f4ca3       16     5  manpower  32.000000\n",
      "16  97a733da-77ae-4dbe-b978-3226880f4ca3       16     6  manpower  32.000000\n",
      "17  97a733da-77ae-4dbe-b978-3226880f4ca3       16     7  manpower  32.000000\n",
      "18  97a733da-77ae-4dbe-b978-3226880f4ca3       16     8  manpower  32.000000\n",
      "19  97a733da-77ae-4dbe-b978-3226880f4ca3       16     9  manpower  32.000000\n",
      "20  97a733da-77ae-4dbe-b978-3226880f4ca3       16    10  manpower  32.000000\n",
      "21  97a733da-77ae-4dbe-b978-3226880f4ca3       16    11  manpower  32.000000\n",
      "22  97a733da-77ae-4dbe-b978-3226880f4ca3       16    12  manpower  32.000000\n",
      "23  97a733da-77ae-4dbe-b978-3226880f4ca3       16    13  manpower  32.000000\n",
      "24  97a733da-77ae-4dbe-b978-3226880f4ca3       17     3       co2  35.000000\n",
      "25  97a733da-77ae-4dbe-b978-3226880f4ca3       17     4       co2  35.000000\n",
      "26  97a733da-77ae-4dbe-b978-3226880f4ca3       17     5       co2  35.000000\n",
      "27  97a733da-77ae-4dbe-b978-3226880f4ca3       17     6       co2  35.000000\n",
      "28  97a733da-77ae-4dbe-b978-3226880f4ca3       17     7       co2  35.000000\n",
      "29  97a733da-77ae-4dbe-b978-3226880f4ca3       17     8       co2  35.000000\n",
      "30  97a733da-77ae-4dbe-b978-3226880f4ca3       17     9       co2  35.000000\n",
      "31  97a733da-77ae-4dbe-b978-3226880f4ca3       17    10       co2  35.000000\n",
      "32  97a733da-77ae-4dbe-b978-3226880f4ca3       17    11       co2  35.000000\n",
      "33  97a733da-77ae-4dbe-b978-3226880f4ca3       17    12       co2  35.000000\n",
      "34  97a733da-77ae-4dbe-b978-3226880f4ca3       17    13       co2  35.000000\n",
      "35  97a733da-77ae-4dbe-b978-3226880f4ca3       17    14       co2  35.000000\n",
      "36  97a733da-77ae-4dbe-b978-3226880f4ca3       17    15       co2  35.000000\n",
      "37  97a733da-77ae-4dbe-b978-3226880f4ca3       17    16       co2  35.000000\n",
      "38  97a733da-77ae-4dbe-b978-3226880f4ca3       17    17       co2  35.000000\n",
      "39  97a733da-77ae-4dbe-b978-3226880f4ca3       17     3  manpower  32.000000\n",
      "40  97a733da-77ae-4dbe-b978-3226880f4ca3       17     4  manpower  32.000000\n",
      "41  97a733da-77ae-4dbe-b978-3226880f4ca3       17     5  manpower  32.000000\n",
      "42  97a733da-77ae-4dbe-b978-3226880f4ca3       17     6  manpower  32.000000\n",
      "43  97a733da-77ae-4dbe-b978-3226880f4ca3       17     7  manpower  32.000000\n",
      "44  97a733da-77ae-4dbe-b978-3226880f4ca3       17     8  manpower  32.000000\n",
      "45  97a733da-77ae-4dbe-b978-3226880f4ca3       17     9  manpower  32.000000\n",
      "46  97a733da-77ae-4dbe-b978-3226880f4ca3       17    10  manpower  32.000000\n",
      "47  97a733da-77ae-4dbe-b978-3226880f4ca3       17    11  manpower  32.000000\n",
      "48  97a733da-77ae-4dbe-b978-3226880f4ca3       17    12  manpower  32.000000\n",
      "49  97a733da-77ae-4dbe-b978-3226880f4ca3       17    13  manpower  32.000000\n",
      "50  97a733da-77ae-4dbe-b978-3226880f4ca3       17    14  manpower  32.000000\n",
      "51  97a733da-77ae-4dbe-b978-3226880f4ca3       17    15  manpower  32.000000\n",
      "52  97a733da-77ae-4dbe-b978-3226880f4ca3       17    16  manpower  32.000000\n",
      "53  97a733da-77ae-4dbe-b978-3226880f4ca3       17    17  manpower  32.000000\n"
     ]
    }
   ],
   "source": [
    "data = []\n",
    "for index, row  in timestep_use.iterrows():\n",
    "    for i in range(row['EnterTime'], row['ExitTime']):\n",
    "        data.append( (row['SimId'],\n",
    "                      row['AgentId'],\n",
    "                      i,\n",
    "                      row['keyword'],\n",
    "                      row['Value']))\n",
    "\n",
    "timestep_use = pd.DataFrame(data, columns=['SimId', 'AgentId', 'Time', 'keyword', 'Value'])\n",
    "print(timestep_use)"
   ]
  },
  {
   "cell_type": "code",
   "execution_count": null,
   "metadata": {},
   "outputs": [],
   "source": []
  },
  {
   "cell_type": "code",
   "execution_count": null,
   "metadata": {},
   "outputs": [],
   "source": []
  },
  {
   "cell_type": "code",
   "execution_count": null,
   "metadata": {},
   "outputs": [],
   "source": []
  }
 ],
 "metadata": {
  "kernelspec": {
   "display_name": "Python 3",
   "language": "python",
   "name": "python3"
  },
  "language_info": {
   "codemirror_mode": {
    "name": "ipython",
    "version": 3
   },
   "file_extension": ".py",
   "mimetype": "text/x-python",
   "name": "python",
   "nbconvert_exporter": "python",
   "pygments_lexer": "ipython3",
   "version": "3.6.8"
  }
 },
 "nbformat": 4,
 "nbformat_minor": 2
}
