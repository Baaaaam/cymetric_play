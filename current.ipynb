{
 "cells": [
  {
   "cell_type": "code",
   "execution_count": 8,
   "metadata": {
    "collapsed": false
   },
   "outputs": [
    {
     "ename": "SyntaxError",
     "evalue": "invalid syntax (cy_analysis.py, line 54)",
     "output_type": "error",
     "traceback": [
      "\u001b[0;36m  File \u001b[0;32m\"/Users/mouginot/work/cymetric_play/cy_analysis.py\"\u001b[0;36m, line \u001b[0;32m54\u001b[0m\n\u001b[0;31m    if a_in && b_in):\u001b[0m\n\u001b[0m             ^\u001b[0m\n\u001b[0;31mSyntaxError\u001b[0m\u001b[0;31m:\u001b[0m invalid syntax\n"
     ]
    }
   ],
   "source": [
    "import cymetric as cym\n",
    "import pandas as pd\n",
    "import numpy as np\n",
    "import matplotlib.pyplot as plt\n",
    "import cy_analysis as ana\n",
    "%matplotlib inline\n",
    "\n"
   ]
  },
  {
   "cell_type": "code",
   "execution_count": 9,
   "metadata": {
    "collapsed": false
   },
   "outputs": [],
   "source": [
    "#load db in a evaler\n",
    "with cym.dbopen('cyclus_case4.sqlite') as db:\n",
    "    evaler = cym.Evaluator(db)"
   ]
  },
  {
   "cell_type": "code",
   "execution_count": 10,
   "metadata": {
    "collapsed": false
   },
   "outputs": [],
   "source": [
    "trans = evaler.eval('Transactions')\n",
    "agents = evaler.eval('AgentEntry')\n"
   ]
  },
  {
   "cell_type": "code",
   "execution_count": 11,
   "metadata": {
    "collapsed": true
   },
   "outputs": [],
   "source": [
    "  agents_Sender = agents.rename(index=str, columns={'AgentId': 'SenderId'})\n",
    "  agents_Receiver = agents.rename(index=str, columns={'AgentId': 'ReceiverId'})\n",
    " "
   ]
  },
  {
   "cell_type": "code",
   "execution_count": 12,
   "metadata": {
    "collapsed": true
   },
   "outputs": [],
   "source": [
    " df = pd.merge(agents_Sender[['SimId', 'SenderId', 'Prototype']], trans, on=['SimId', 'SenderId'])\n",
    "    "
   ]
  },
  {
   "cell_type": "code",
   "execution_count": 13,
   "metadata": {
    "collapsed": false
   },
   "outputs": [],
   "source": [
    "df = df.rename(index=str, columns={'Prototype': 'SenderProto'})"
   ]
  },
  {
   "cell_type": "code",
   "execution_count": 14,
   "metadata": {
    "collapsed": false
   },
   "outputs": [],
   "source": [
    " df = df.drop('SenderId',1)"
   ]
  },
  {
   "cell_type": "code",
   "execution_count": 15,
   "metadata": {
    "collapsed": false
   },
   "outputs": [],
   "source": [
    "  df = pd.merge(agents_Receiver[['SimId', 'ReceiverId', 'Prototype']], df, on=['SimId', 'ReceiverId'])\n",
    "  df = df.rename(index=str, columns={'Prototype': 'ReceiverProto'})\n",
    "  df = df.drop('ReceiverId',1)\n"
   ]
  },
  {
   "cell_type": "code",
   "execution_count": 16,
   "metadata": {
    "collapsed": true
   },
   "outputs": [],
   "source": [
    "  resource = evaler.eval('Resources')\n",
    "  df = pd.merge(resource[['SimId', 'ResourceId','QualId','Quantity','Units'  ]], df, on=['SimId', 'ResourceId'])\n",
    "  df = df.drop('ResourceId',1)\n"
   ]
  },
  {
   "cell_type": "code",
   "execution_count": 24,
   "metadata": {
    "collapsed": false
   },
   "outputs": [
    {
     "data": {
      "text/html": [
       "<div>\n",
       "<table border=\"1\" class=\"dataframe\">\n",
       "  <thead>\n",
       "    <tr style=\"text-align: right;\">\n",
       "      <th></th>\n",
       "      <th></th>\n",
       "      <th></th>\n",
       "      <th>Quantity</th>\n",
       "    </tr>\n",
       "    <tr>\n",
       "      <th>ReceiverProto</th>\n",
       "      <th>SenderProto</th>\n",
       "      <th>Time</th>\n",
       "      <th></th>\n",
       "    </tr>\n",
       "  </thead>\n",
       "  <tbody>\n",
       "    <tr>\n",
       "      <th rowspan=\"30\" valign=\"top\">FBR_blanket</th>\n",
       "      <th rowspan=\"30\" valign=\"top\">FBR_blanket_fabrication</th>\n",
       "      <th>135</th>\n",
       "      <td>49683.000000</td>\n",
       "    </tr>\n",
       "    <tr>\n",
       "      <th>136</th>\n",
       "      <td>49683.000000</td>\n",
       "    </tr>\n",
       "    <tr>\n",
       "      <th>137</th>\n",
       "      <td>49683.000000</td>\n",
       "    </tr>\n",
       "    <tr>\n",
       "      <th>146</th>\n",
       "      <td>49683.000000</td>\n",
       "    </tr>\n",
       "    <tr>\n",
       "      <th>147</th>\n",
       "      <td>49683.000000</td>\n",
       "    </tr>\n",
       "    <tr>\n",
       "      <th>153</th>\n",
       "      <td>16561.000000</td>\n",
       "    </tr>\n",
       "    <tr>\n",
       "      <th>154</th>\n",
       "      <td>16561.000000</td>\n",
       "    </tr>\n",
       "    <tr>\n",
       "      <th>155</th>\n",
       "      <td>16561.000000</td>\n",
       "    </tr>\n",
       "    <tr>\n",
       "      <th>158</th>\n",
       "      <td>82805.000000</td>\n",
       "    </tr>\n",
       "    <tr>\n",
       "      <th>159</th>\n",
       "      <td>66244.000000</td>\n",
       "    </tr>\n",
       "    <tr>\n",
       "      <th>164</th>\n",
       "      <td>16561.000000</td>\n",
       "    </tr>\n",
       "    <tr>\n",
       "      <th>165</th>\n",
       "      <td>16561.000000</td>\n",
       "    </tr>\n",
       "    <tr>\n",
       "      <th>170</th>\n",
       "      <td>132488.000000</td>\n",
       "    </tr>\n",
       "    <tr>\n",
       "      <th>171</th>\n",
       "      <td>33122.000000</td>\n",
       "    </tr>\n",
       "    <tr>\n",
       "      <th>172</th>\n",
       "      <td>16561.000000</td>\n",
       "    </tr>\n",
       "    <tr>\n",
       "      <th>173</th>\n",
       "      <td>16561.000000</td>\n",
       "    </tr>\n",
       "    <tr>\n",
       "      <th>176</th>\n",
       "      <td>16561.000000</td>\n",
       "    </tr>\n",
       "    <tr>\n",
       "      <th>177</th>\n",
       "      <td>33122.000000</td>\n",
       "    </tr>\n",
       "    <tr>\n",
       "      <th>182</th>\n",
       "      <td>165610.000000</td>\n",
       "    </tr>\n",
       "    <tr>\n",
       "      <th>183</th>\n",
       "      <td>16561.000000</td>\n",
       "    </tr>\n",
       "    <tr>\n",
       "      <th>188</th>\n",
       "      <td>33122.000000</td>\n",
       "    </tr>\n",
       "    <tr>\n",
       "      <th>189</th>\n",
       "      <td>33122.000000</td>\n",
       "    </tr>\n",
       "    <tr>\n",
       "      <th>190</th>\n",
       "      <td>16561.000000</td>\n",
       "    </tr>\n",
       "    <tr>\n",
       "      <th>191</th>\n",
       "      <td>16561.000000</td>\n",
       "    </tr>\n",
       "    <tr>\n",
       "      <th>194</th>\n",
       "      <td>165610.000000</td>\n",
       "    </tr>\n",
       "    <tr>\n",
       "      <th>195</th>\n",
       "      <td>33122.000000</td>\n",
       "    </tr>\n",
       "    <tr>\n",
       "      <th>200</th>\n",
       "      <td>66244.000000</td>\n",
       "    </tr>\n",
       "    <tr>\n",
       "      <th>201</th>\n",
       "      <td>16561.000000</td>\n",
       "    </tr>\n",
       "    <tr>\n",
       "      <th>206</th>\n",
       "      <td>182171.000000</td>\n",
       "    </tr>\n",
       "    <tr>\n",
       "      <th>207</th>\n",
       "      <td>33122.000000</td>\n",
       "    </tr>\n",
       "    <tr>\n",
       "      <th>...</th>\n",
       "      <th>...</th>\n",
       "      <th>...</th>\n",
       "      <td>...</td>\n",
       "    </tr>\n",
       "    <tr>\n",
       "      <th rowspan=\"30\" valign=\"top\">waste</th>\n",
       "      <th rowspan=\"30\" valign=\"top\">PWR_separation</th>\n",
       "      <th>2331</th>\n",
       "      <td>1970.081693</td>\n",
       "    </tr>\n",
       "    <tr>\n",
       "      <th>2332</th>\n",
       "      <td>93340.430489</td>\n",
       "    </tr>\n",
       "    <tr>\n",
       "      <th>2333</th>\n",
       "      <td>27581.143705</td>\n",
       "    </tr>\n",
       "    <tr>\n",
       "      <th>2338</th>\n",
       "      <td>84713.512807</td>\n",
       "    </tr>\n",
       "    <tr>\n",
       "      <th>2339</th>\n",
       "      <td>23640.980318</td>\n",
       "    </tr>\n",
       "    <tr>\n",
       "      <th>2343</th>\n",
       "      <td>3940.163386</td>\n",
       "    </tr>\n",
       "    <tr>\n",
       "      <th>2344</th>\n",
       "      <td>95310.512182</td>\n",
       "    </tr>\n",
       "    <tr>\n",
       "      <th>2345</th>\n",
       "      <td>27581.143705</td>\n",
       "    </tr>\n",
       "    <tr>\n",
       "      <th>2350</th>\n",
       "      <td>84713.512807</td>\n",
       "    </tr>\n",
       "    <tr>\n",
       "      <th>2351</th>\n",
       "      <td>27581.143705</td>\n",
       "    </tr>\n",
       "    <tr>\n",
       "      <th>2355</th>\n",
       "      <td>1970.081693</td>\n",
       "    </tr>\n",
       "    <tr>\n",
       "      <th>2356</th>\n",
       "      <td>93340.430489</td>\n",
       "    </tr>\n",
       "    <tr>\n",
       "      <th>2357</th>\n",
       "      <td>25611.062011</td>\n",
       "    </tr>\n",
       "    <tr>\n",
       "      <th>2362</th>\n",
       "      <td>88653.676193</td>\n",
       "    </tr>\n",
       "    <tr>\n",
       "      <th>2363</th>\n",
       "      <td>25611.062011</td>\n",
       "    </tr>\n",
       "    <tr>\n",
       "      <th>2367</th>\n",
       "      <td>3940.163386</td>\n",
       "    </tr>\n",
       "    <tr>\n",
       "      <th>2368</th>\n",
       "      <td>93340.430489</td>\n",
       "    </tr>\n",
       "    <tr>\n",
       "      <th>2369</th>\n",
       "      <td>29551.225398</td>\n",
       "    </tr>\n",
       "    <tr>\n",
       "      <th>2374</th>\n",
       "      <td>84713.512807</td>\n",
       "    </tr>\n",
       "    <tr>\n",
       "      <th>2375</th>\n",
       "      <td>23640.980318</td>\n",
       "    </tr>\n",
       "    <tr>\n",
       "      <th>2379</th>\n",
       "      <td>3940.163386</td>\n",
       "    </tr>\n",
       "    <tr>\n",
       "      <th>2380</th>\n",
       "      <td>97280.593875</td>\n",
       "    </tr>\n",
       "    <tr>\n",
       "      <th>2381</th>\n",
       "      <td>27581.143705</td>\n",
       "    </tr>\n",
       "    <tr>\n",
       "      <th>2386</th>\n",
       "      <td>88653.676193</td>\n",
       "    </tr>\n",
       "    <tr>\n",
       "      <th>2387</th>\n",
       "      <td>23640.980318</td>\n",
       "    </tr>\n",
       "    <tr>\n",
       "      <th>2391</th>\n",
       "      <td>3940.163386</td>\n",
       "    </tr>\n",
       "    <tr>\n",
       "      <th>2392</th>\n",
       "      <td>95310.512182</td>\n",
       "    </tr>\n",
       "    <tr>\n",
       "      <th>2393</th>\n",
       "      <td>25611.062011</td>\n",
       "    </tr>\n",
       "    <tr>\n",
       "      <th>2398</th>\n",
       "      <td>90623.757886</td>\n",
       "    </tr>\n",
       "    <tr>\n",
       "      <th>2399</th>\n",
       "      <td>23640.980318</td>\n",
       "    </tr>\n",
       "  </tbody>\n",
       "</table>\n",
       "<p>30454 rows × 1 columns</p>\n",
       "</div>"
      ],
      "text/plain": [
       "                                                 Quantity\n",
       "ReceiverProto SenderProto             Time               \n",
       "FBR_blanket   FBR_blanket_fabrication 135    49683.000000\n",
       "                                      136    49683.000000\n",
       "                                      137    49683.000000\n",
       "                                      146    49683.000000\n",
       "                                      147    49683.000000\n",
       "                                      153    16561.000000\n",
       "                                      154    16561.000000\n",
       "                                      155    16561.000000\n",
       "                                      158    82805.000000\n",
       "                                      159    66244.000000\n",
       "                                      164    16561.000000\n",
       "                                      165    16561.000000\n",
       "                                      170   132488.000000\n",
       "                                      171    33122.000000\n",
       "                                      172    16561.000000\n",
       "                                      173    16561.000000\n",
       "                                      176    16561.000000\n",
       "                                      177    33122.000000\n",
       "                                      182   165610.000000\n",
       "                                      183    16561.000000\n",
       "                                      188    33122.000000\n",
       "                                      189    33122.000000\n",
       "                                      190    16561.000000\n",
       "                                      191    16561.000000\n",
       "                                      194   165610.000000\n",
       "                                      195    33122.000000\n",
       "                                      200    66244.000000\n",
       "                                      201    16561.000000\n",
       "                                      206   182171.000000\n",
       "                                      207    33122.000000\n",
       "...                                                   ...\n",
       "waste         PWR_separation          2331    1970.081693\n",
       "                                      2332   93340.430489\n",
       "                                      2333   27581.143705\n",
       "                                      2338   84713.512807\n",
       "                                      2339   23640.980318\n",
       "                                      2343    3940.163386\n",
       "                                      2344   95310.512182\n",
       "                                      2345   27581.143705\n",
       "                                      2350   84713.512807\n",
       "                                      2351   27581.143705\n",
       "                                      2355    1970.081693\n",
       "                                      2356   93340.430489\n",
       "                                      2357   25611.062011\n",
       "                                      2362   88653.676193\n",
       "                                      2363   25611.062011\n",
       "                                      2367    3940.163386\n",
       "                                      2368   93340.430489\n",
       "                                      2369   29551.225398\n",
       "                                      2374   84713.512807\n",
       "                                      2375   23640.980318\n",
       "                                      2379    3940.163386\n",
       "                                      2380   97280.593875\n",
       "                                      2381   27581.143705\n",
       "                                      2386   88653.676193\n",
       "                                      2387   23640.980318\n",
       "                                      2391    3940.163386\n",
       "                                      2392   95310.512182\n",
       "                                      2393   25611.062011\n",
       "                                      2398   90623.757886\n",
       "                                      2399   23640.980318\n",
       "\n",
       "[30454 rows x 1 columns]"
      ]
     },
     "execution_count": 24,
     "metadata": {},
     "output_type": "execute_result"
    }
   ],
   "source": [
    "  trans = df[['ReceiverProto', 'SenderProto','Time', 'Quantity']].groupby(['ReceiverProto', 'SenderProto','Time']).sum()\n",
    "trans"
   ]
  },
  {
   "cell_type": "code",
   "execution_count": 18,
   "metadata": {
    "collapsed": false
   },
   "outputs": [],
   "source": [
    "test = trans.loc['PWR_fabrication']"
   ]
  },
  {
   "cell_type": "code",
   "execution_count": 29,
   "metadata": {
    "collapsed": false
   },
   "outputs": [
    {
     "name": "stdout",
     "output_type": "stream",
     "text": [
      "FBR_blanket ,\n",
      "FBR_blanket_cooling ,\n",
      "FBR_blanket_fabrication ,\n",
      "FBR_blanket_separation ,\n",
      "FBR_blanket_storage ,\n",
      "FBR_driver ,\n",
      "FBR_driver_MOX_cooling ,\n",
      "FBR_driver_MOX_storage ,\n",
      "FBR_driver_fabrication ,\n",
      "FBR_driver_separation ,\n",
      "LWR_UOX ,\n",
      "PWR ,\n",
      "PWR_cooling ,\n",
      "PWR_fabrication ,\n",
      "PWR_separation ,\n",
      "PWR_storage ,\n",
      "Storage_E1_prime ,\n",
      "Storage_E1_second ,\n",
      "Storage_E2_prime ,\n",
      "Storage_E2_second ,\n",
      "Storage_E3_prime ,\n",
      "Storage_E3_second ,\n",
      "Storage_E4 ,\n",
      "Storage_J1_prime ,\n",
      "Storage_J1_second ,\n",
      "waste ,\n"
     ]
    }
   ],
   "source": [
    "fac_b = 'test'\n",
    "fac_a = 'Storage_E3_second'\n",
    "index = trans.index.levels[0]\n",
    "\n",
    "a_in = False\n",
    "b_in = False\n",
    "\n",
    "for word in index:\n",
    "  if(fac_b == word):\n",
    "    a_in = True\n",
    "  print(word)\n",
    "    \n",
    "index2 = trans.index.levels[1]\n",
    "\n",
    "for word in index2:\n",
    "  if(fac_a == word):\n",
    "    b_in = True\n"
   ]
  },
  {
   "cell_type": "code",
   "execution_count": 22,
   "metadata": {
    "collapsed": false
   },
   "outputs": [
    {
     "name": "stdout",
     "output_type": "stream",
     "text": [
      "Index(['FBR_blanket', 'FBR_blanket_cooling', 'FBR_blanket_fabrication',\n",
      "       'FBR_blanket_separation', 'FBR_blanket_storage', 'FBR_driver',\n",
      "       'FBR_driver_MOX_cooling', 'FBR_driver_MOX_storage',\n",
      "       'FBR_driver_fabrication', 'FBR_driver_separation', 'LWR_UOX', 'PWR',\n",
      "       'PWR_cooling', 'PWR_fabrication', 'PWR_separation', 'PWR_storage',\n",
      "       'Storage_E1_prime', 'Storage_E1_second', 'Storage_E2_prime',\n",
      "       'Storage_E2_second', 'Storage_E3_prime', 'Storage_E3_second',\n",
      "       'Storage_E4', 'Storage_J1_prime', 'Storage_J1_second', 'waste'],\n",
      "      dtype='object', name='ReceiverProto')\n",
      "Index(['E1_second_limited_source', 'E2_second_limited_source',\n",
      "       'E3_second_limited_source', 'E4_limited_source', 'FBR_blanket',\n",
      "       'FBR_blanket_cooling', 'FBR_blanket_fabrication',\n",
      "       'FBR_blanket_separation', 'FBR_blanket_storage', 'FBR_driver',\n",
      "       'FBR_driver_MOX_cooling', 'FBR_driver_MOX_storage',\n",
      "       'FBR_driver_fabrication', 'FBR_driver_separation', 'LWR_UOX', 'PWR',\n",
      "       'PWR_cooling', 'PWR_fabrication', 'PWR_separation', 'PWR_storage',\n",
      "       'Storage_E1_prime', 'Storage_E1_second', 'Storage_E2_prime',\n",
      "       'Storage_E2_second', 'Storage_E3_prime', 'Storage_E3_second',\n",
      "       'Storage_E4', 'Storage_J1_second', 'natl_u_source', 'uox_new_source'],\n",
      "      dtype='object', name='SenderProto')\n"
     ]
    }
   ],
   "source": [
    "  if (a_in & b_in):\n",
    "    toplot = trans.loc['fac_b'].loc[fac_a]\n",
    "  else:\n",
    "    print(index)\n",
    "    print(index2)\n"
   ]
  },
  {
   "cell_type": "code",
   "execution_count": 23,
   "metadata": {
    "collapsed": false
   },
   "outputs": [
    {
     "ename": "NameError",
     "evalue": "name 'toplot' is not defined",
     "output_type": "error",
     "traceback": [
      "\u001b[0;31m---------------------------------------------------------------------------\u001b[0m",
      "\u001b[0;31mNameError\u001b[0m                                 Traceback (most recent call last)",
      "\u001b[0;32m<ipython-input-23-f71c63021e67>\u001b[0m in \u001b[0;36m<module>\u001b[0;34m()\u001b[0m\n\u001b[0;32m----> 1\u001b[0;31m \u001b[0mtoplot\u001b[0m\u001b[0;34m\u001b[0m\u001b[0m\n\u001b[0m",
      "\u001b[0;31mNameError\u001b[0m: name 'toplot' is not defined"
     ]
    }
   ],
   "source": [
    "toplot"
   ]
  },
  {
   "cell_type": "code",
   "execution_count": null,
   "metadata": {
    "collapsed": true
   },
   "outputs": [],
   "source": []
  },
  {
   "cell_type": "code",
   "execution_count": null,
   "metadata": {
    "collapsed": true
   },
   "outputs": [],
   "source": []
  }
 ],
 "metadata": {
  "kernelspec": {
   "display_name": "Python 3",
   "language": "python",
   "name": "python3"
  },
  "language_info": {
   "codemirror_mode": {
    "name": "ipython",
    "version": 3
   },
   "file_extension": ".py",
   "mimetype": "text/x-python",
   "name": "python",
   "nbconvert_exporter": "python",
   "pygments_lexer": "ipython3",
   "version": "3.5.2"
  }
 },
 "nbformat": 4,
 "nbformat_minor": 1
}
