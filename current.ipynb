{
 "cells": [
  {
   "cell_type": "code",
   "execution_count": 2,
   "metadata": {
    "collapsed": true
   },
   "outputs": [],
   "source": [
    "import cymetric as cym\n",
    "import pandas as pd\n",
    "import numpy as np\n",
    "import matplotlib.pyplot as plt\n",
    "%matplotlib inline\n",
    "\n"
   ]
  },
  {
   "cell_type": "code",
   "execution_count": 3,
   "metadata": {
    "collapsed": false
   },
   "outputs": [],
   "source": [
    "#load db in a evaler\n",
    "with cym.dbopen('cyclus_case4.sqlite') as db:\n",
    "    evaler = cym.Evaluator(db)"
   ]
  },
  {
   "cell_type": "code",
   "execution_count": 5,
   "metadata": {
    "collapsed": false
   },
   "outputs": [
    {
     "data": {
      "text/plain": [
       "{'AgentEntry',\n",
       " 'AgentExit',\n",
       " 'AgentStateAgent',\n",
       " 'AgentStateInventories',\n",
       " 'AgentState_cycamore_DeployInstInfo',\n",
       " 'AgentState_cycamore_GroupInstInfo',\n",
       " 'AgentState_cycamore_MixerInfo',\n",
       " 'AgentState_cycamore_ReactorInfo',\n",
       " 'AgentState_cycamore_SeparationsInfo',\n",
       " 'AgentState_cycamore_SinkInfo',\n",
       " 'AgentState_cycamore_SourceInfo',\n",
       " 'AgentState_cycamore_StorageInfo',\n",
       " 'AgentVersions',\n",
       " 'Agents',\n",
       " 'BuildSchedule',\n",
       " 'Compositions',\n",
       " 'DecayMode',\n",
       " 'DecomSchedule',\n",
       " 'Epsilon',\n",
       " 'ExplicitInventory',\n",
       " 'FieldTypes',\n",
       " 'Finish',\n",
       " 'GreedySolverInfo',\n",
       " 'Info',\n",
       " 'InfoExplicitInv',\n",
       " 'InputFiles',\n",
       " 'Inventories',\n",
       " 'MaterialInfo',\n",
       " 'NextIds',\n",
       " 'Products',\n",
       " 'Prototypes',\n",
       " 'ReactorEvents',\n",
       " 'Recipes',\n",
       " 'ResCreators',\n",
       " 'Resources',\n",
       " 'Snapshots',\n",
       " 'SolverInfo',\n",
       " 'TimeList',\n",
       " 'TimeSeriesPower',\n",
       " 'TimeStepDur',\n",
       " 'Transactions',\n",
       " 'XMLPPInfo',\n",
       " 'sqlite_stat1',\n",
       " 'sqlite_stat4'}"
      ]
     },
     "execution_count": 5,
     "metadata": {},
     "output_type": "execute_result"
    }
   ],
   "source": [
    "evaler.known_tables"
   ]
  },
  {
   "cell_type": "code",
   "execution_count": null,
   "metadata": {
    "collapsed": true
   },
   "outputs": [],
   "source": []
  }
 ],
 "metadata": {
  "kernelspec": {
   "display_name": "Python 3",
   "language": "python",
   "name": "python3"
  },
  "language_info": {
   "codemirror_mode": {
    "name": "ipython",
    "version": 3
   },
   "file_extension": ".py",
   "mimetype": "text/x-python",
   "name": "python",
   "nbconvert_exporter": "python",
   "pygments_lexer": "ipython3",
   "version": "3.5.2"
  }
 },
 "nbformat": 4,
 "nbformat_minor": 1
}
